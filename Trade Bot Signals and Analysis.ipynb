{
 "cells": [
  {
   "cell_type": "code",
   "execution_count": 1,
   "metadata": {},
   "outputs": [],
   "source": [
    "import pandas as pd\n",
    "import numpy as np\n",
    "from scipy.stats import linregress\n",
    "import scipy"
   ]
  },
  {
   "cell_type": "code",
   "execution_count": 8,
   "metadata": {},
   "outputs": [],
   "source": [
    "#no of days which are used for understanding the trend\n",
    "n = 7\n",
    "#no of days for that slope tendency is checked\n",
    "m = 6\n",
    "#no of days for that conditions are checked\n",
    "k=2\n",
    "#profit in index\n",
    "p=0.5\n",
    "\n",
    "data = pd.read_excel(\"C:\\Trading\\Trade-Bot\\data.xlsx\", sheet_name=\"data_future\")"
   ]
  },
  {
   "cell_type": "code",
   "execution_count": 9,
   "metadata": {},
   "outputs": [
    {
     "name": "stdout",
     "output_type": "stream",
     "text": [
      "Slope Calculation Completed!\n",
      "Long / Short prediction Completed!\n",
      "Profit and Duration Calculation Completed!\n"
     ]
    }
   ],
   "source": [
    "data['slope_10yt'] = float('nan')\n",
    "data['slope_rate'] = float('nan')\n",
    "data['slope_10yt_tendency'] = float('nan')\n",
    "data['slope_rate_tendency'] = float('nan')\n",
    "\n",
    "for i in range(n,data.shape[0]+1):\n",
    "    #print(i)\n",
    "    temp = data[i-n:i]\n",
    "    data.iloc[i-1,10] = linregress(temp['x'],temp['10yt_future']).slope\n",
    "    data.iloc[i-1,11] = linregress(temp['x'],temp['rate']).slope\n",
    "    \n",
    "    if i>m+n:\n",
    "        temp1 = data[i-m:i]\n",
    "        data.iloc[i-1,12] = linregress(temp1['x'],temp1['slope_10yt']).slope\n",
    "        data.iloc[i-1,13] = linregress(temp1['x'],temp1['slope_rate']).slope    \n",
    "\n",
    "print('Slope Calculation Completed!')\n",
    "        \n",
    "data['intensity_10yt'] = data['slope_10yt'].apply(lambda x: scipy.stats.percentileofscore(abs(data['slope_10yt']), abs(x)))\n",
    "data['intensity_rate'] = data['slope_rate'].apply(lambda x: scipy.stats.percentileofscore(abs(data['slope_rate']), abs(x)))\n",
    "\n",
    "data['opportunity'] = (data['slope_10yt']*data['slope_rate'] > 0) & (data['slope_10yt_tendency']*data['slope_rate_tendency'] > 0)\n",
    "data['rate_dominant'] = abs(data['slope_10yt']) < abs(data['slope_rate'])\n",
    "\n",
    "data['long/short'] = float('nan')\n",
    "for i in range(m,data.shape[0]+1):\n",
    "    #print(i)\n",
    "    temp = data[i-k:i]\n",
    "    \n",
    "    if temp[['opportunity']].eq(True).all()[0]:\n",
    "        \n",
    "        if data.iloc[i-1,11] < 0:\n",
    "            data.iloc[i-1,18] = 'long'\n",
    "        else :\n",
    "            data.iloc[i-1,18] = 'short'\n",
    "\n",
    "print('Long / Short prediction Completed!')\n",
    "            \n",
    "data['profit'] = float('nan')\n",
    "data['time'] = float('nan')\n",
    "\n",
    "for i in range(0,data.shape[0]):\n",
    "    \n",
    "    if data.iloc[i,18] == 'long':\n",
    "            \n",
    "        temp2 = data[(data['10yt_future'] > data.iloc[i,2] + p ) & (data['date'] > data.iloc[i,0])]\n",
    "        if temp2.shape[0] > 0:\n",
    "            data.iloc[i,19] = temp2.iloc[0,2]\n",
    "            data.iloc[i,20] = temp2.iloc[0,0] - data.iloc[i,0]\n",
    "    \n",
    "    elif data.iloc[i,18] == 'short':\n",
    "        \n",
    "        temp2 = data[(data['10yt_future'] < data.iloc[i,2] - p ) & (data['date'] > data.iloc[i,0])]\n",
    "        if temp2.shape[0] > 0:\n",
    "            data.iloc[i,19] = temp2.iloc[0,2]\n",
    "            data.iloc[i,20] = temp2.iloc[0,0] - data.iloc[i,0]\n",
    "            \n",
    "print('Profit and Duration Calculation Completed!')"
   ]
  },
  {
   "cell_type": "code",
   "execution_count": null,
   "metadata": {},
   "outputs": [],
   "source": []
  }
 ],
 "metadata": {
  "kernelspec": {
   "display_name": "Python 3",
   "language": "python",
   "name": "python3"
  },
  "language_info": {
   "codemirror_mode": {
    "name": "ipython",
    "version": 3
   },
   "file_extension": ".py",
   "mimetype": "text/x-python",
   "name": "python",
   "nbconvert_exporter": "python",
   "pygments_lexer": "ipython3",
   "version": "3.7.4"
  }
 },
 "nbformat": 4,
 "nbformat_minor": 2
}
